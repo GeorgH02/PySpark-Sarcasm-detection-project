{
 "cells": [
  {
   "cell_type": "markdown",
   "metadata": {},
   "source": [
    "# Examining machine learning approaches\n",
    "# to detect sarcasm in Reddit comments"
   ]
  },
  {
   "cell_type": "markdown",
   "metadata": {},
   "source": [
    "## Setup steps"
   ]
  },
  {
   "cell_type": "markdown",
   "metadata": {},
   "source": [
    "Importing the Spark module and starting a Spark session:"
   ]
  },
  {
   "cell_type": "code",
   "execution_count": 1,
   "metadata": {},
   "outputs": [],
   "source": [
    "# importing the findspark module\n",
    "import findspark\n",
    "\n",
    "# initializing Spark through the full path\n",
    "findspark.init(\"/usr/local/spark/\")\n",
    "\n",
    "# importing the Sparksession module and functions, as well as the collections module\n",
    "from pyspark.sql import SparkSession\n",
    "from pyspark.sql import functions as F\n",
    "import collections\n",
    "\n",
    "# creating a Spark session and starting it\n",
    "spark = SparkSession.builder \\\n",
    "   .master(\"local[8]\") \\\n",
    "   .appName(\"SarcasmDetection\") \\\n",
    "   .config(\"spark.executor.memory\", \"10gb\") \\\n",
    "   .getOrCreate()\n",
    "\n",
    "# creating the main entry point for Spark functionality\n",
    "sc = spark.sparkContext"
   ]
  },
  {
   "cell_type": "markdown",
   "metadata": {},
   "source": [
    "Loading the data from the CSV file as a Spark dataframe:"
   ]
  },
  {
   "cell_type": "code",
   "execution_count": 2,
   "metadata": {},
   "outputs": [
    {
     "name": "stdout",
     "output_type": "stream",
     "text": [
      "+-----+--------------------+---------+------------------+-----+---+-----+-------+-------------------+--------------------+\n",
      "|label|             comment|   author|         subreddit|score|ups|downs|   date|        created_utc|      parent_comment|\n",
      "+-----+--------------------+---------+------------------+-----+---+-----+-------+-------------------+--------------------+\n",
      "|    0|          NC and NH.|Trumpbart|          politics|    2| -1|   -1|2016-10|2016-10-16 23:55:23|Yeah, I get that ...|\n",
      "|    0|You do know west ...|Shbshb906|               nba|   -4| -1|   -1|2016-11|2016-11-01 00:24:10|The blazers and M...|\n",
      "|    0|They were underdo...| Creepeth|               nfl|    3|  3|    0|2016-09|2016-09-22 21:45:37|They're favored t...|\n",
      "|    0|\"This meme isn't ...|icebrotha|BlackPeopleTwitter|   -8| -1|   -1|2016-10|2016-10-18 21:03:47|deadass don't kil...|\n",
      "|    0|I could use one o...|cush2push|MaddenUltimateTeam|    6| -1|   -1|2016-12|2016-12-30 17:00:13|Yep can confirm I...|\n",
      "+-----+--------------------+---------+------------------+-----+---+-----+-------+-------------------+--------------------+\n",
      "only showing top 5 rows\n",
      "\n"
     ]
    }
   ],
   "source": [
    "# loading the data as a dataframe while setting header to true to recognize the first line as the column names \n",
    "# and inferSchema to True to automatically detect the datatypes \n",
    "df_sarcasm = spark.read.csv(\"./train-balanced-sarcasm.csv\", header=True, inferSchema=True)\n",
    "df_sarcasm.show(5)"
   ]
  },
  {
   "cell_type": "markdown",
   "metadata": {},
   "source": [
    "## Initial data analysis"
   ]
  },
  {
   "cell_type": "markdown",
   "metadata": {},
   "source": [
    "Checking the datatypes of the variables:"
   ]
  },
  {
   "cell_type": "code",
   "execution_count": 3,
   "metadata": {},
   "outputs": [
    {
     "name": "stdout",
     "output_type": "stream",
     "text": [
      "root\n",
      " |-- label: integer (nullable = true)\n",
      " |-- comment: string (nullable = true)\n",
      " |-- author: string (nullable = true)\n",
      " |-- subreddit: string (nullable = true)\n",
      " |-- score: string (nullable = true)\n",
      " |-- ups: string (nullable = true)\n",
      " |-- downs: string (nullable = true)\n",
      " |-- date: string (nullable = true)\n",
      " |-- created_utc: string (nullable = true)\n",
      " |-- parent_comment: string (nullable = true)\n",
      "\n"
     ]
    }
   ],
   "source": [
    "# \"df.printSchema()\" displays all variables of the dataframe and their datatype\n",
    "df_sarcasm.printSchema()"
   ]
  },
  {
   "cell_type": "code",
   "execution_count": 4,
   "metadata": {},
   "outputs": [
    {
     "name": "stdout",
     "output_type": "stream",
     "text": [
      "+-------+----------------+--------------------+\n",
      "|summary|           label|             comment|\n",
      "+-------+----------------+--------------------+\n",
      "|  count|         1010826|             1010773|\n",
      "|   mean|             0.5|            Infinity|\n",
      "| stddev|0.50000024732267|                 NaN|\n",
      "|    min|               0Still doesn't he...|\n",
      "|    max|               1|~~~~ ALERT THE CO...|\n",
      "+-------+----------------+--------------------+\n",
      "\n"
     ]
    }
   ],
   "source": [
    "# using the describe-method to further investigate the two most important columns\n",
    "df_sarcasm.describe([\"label\", \"comment\"]).show()"
   ]
  },
  {
   "cell_type": "markdown",
   "metadata": {},
   "source": [
    "There seem to be some rows that have no value in the comment-column, indicated by the difference in count. We will handle this issue later in the preprocessing by dropping these rows. "
   ]
  },
  {
   "cell_type": "markdown",
   "metadata": {},
   "source": [
    "Finding out the number of subreddits in the file:"
   ]
  },
  {
   "cell_type": "code",
   "execution_count": 5,
   "metadata": {},
   "outputs": [
    {
     "name": "stdout",
     "output_type": "stream",
     "text": [
      "Number of distinct subreddits: 23669\n"
     ]
    }
   ],
   "source": [
    "# using select to only select the \"subreddit\"-column, distinct to only get the unique values \n",
    "# and count to get their count as an integer\n",
    "subreddits = df_sarcasm.select([\"subreddit\"]).distinct().count()\n",
    "print(f\"Number of distinct subreddits: {subreddits}\")"
   ]
  },
  {
   "cell_type": "markdown",
   "metadata": {},
   "source": [
    "Checking the dataset's size:"
   ]
  },
  {
   "cell_type": "code",
   "execution_count": 6,
   "metadata": {},
   "outputs": [
    {
     "name": "stdout",
     "output_type": "stream",
     "text": [
      "Number of rows: 1010826\n"
     ]
    }
   ],
   "source": [
    "# getting the number of rows of the dataframe with the \"df.count()\"-method\n",
    "print(f\"Number of rows: {df_sarcasm.count()}\")"
   ]
  },
  {
   "cell_type": "markdown",
   "metadata": {},
   "source": [
    "Creating a balanced excerpt of the dataset:"
   ]
  },
  {
   "cell_type": "code",
   "execution_count": 7,
   "metadata": {},
   "outputs": [
    {
     "name": "stdout",
     "output_type": "stream",
     "text": [
      "+-----+--------------------+---------+------------------+-----+---+-----+-------+-------------------+--------------------+\n",
      "|label|             comment|   author|         subreddit|score|ups|downs|   date|        created_utc|      parent_comment|\n",
      "+-----+--------------------+---------+------------------+-----+---+-----+-------+-------------------+--------------------+\n",
      "|    0|          NC and NH.|Trumpbart|          politics|    2| -1|   -1|2016-10|2016-10-16 23:55:23|Yeah, I get that ...|\n",
      "|    0|You do know west ...|Shbshb906|               nba|   -4| -1|   -1|2016-11|2016-11-01 00:24:10|The blazers and M...|\n",
      "|    0|They were underdo...| Creepeth|               nfl|    3|  3|    0|2016-09|2016-09-22 21:45:37|They're favored t...|\n",
      "|    0|\"This meme isn't ...|icebrotha|BlackPeopleTwitter|   -8| -1|   -1|2016-10|2016-10-18 21:03:47|deadass don't kil...|\n",
      "|    0|I could use one o...|cush2push|MaddenUltimateTeam|    6| -1|   -1|2016-12|2016-12-30 17:00:13|Yep can confirm I...|\n",
      "+-----+--------------------+---------+------------------+-----+---+-----+-------+-------------------+--------------------+\n",
      "only showing top 5 rows\n",
      "\n"
     ]
    }
   ],
   "source": [
    "# filtering the dataframe with a set limit, to decrease its size \n",
    "# while maintaing a 50:50 distribution of the labels\n",
    "filtered_df0 = df_sarcasm.filter(df_sarcasm[\"label\"] == 0).limit(30000)\n",
    "filtered_df1 = df_sarcasm.filter(df_sarcasm[\"label\"] == 1).limit(30000)\n",
    "# unifying the two dataframes into one\n",
    "df_sarcasm = filtered_df0.union(filtered_df1)\n",
    "df_sarcasm.show(5)"
   ]
  },
  {
   "cell_type": "markdown",
   "metadata": {},
   "source": [
    "Checking the distribution of the data:"
   ]
  },
  {
   "cell_type": "code",
   "execution_count": 8,
   "metadata": {},
   "outputs": [
    {
     "name": "stdout",
     "output_type": "stream",
     "text": [
      "30000\n",
      "30000\n"
     ]
    }
   ],
   "source": [
    "# checking if the distribution of the data is 50:50 by filtering and counting the rows per label\n",
    "print(df_sarcasm.filter(df_sarcasm.label == 0).count())\n",
    "print(df_sarcasm.filter(df_sarcasm.label == 1).count())"
   ]
  },
  {
   "cell_type": "markdown",
   "metadata": {},
   "source": [
    "Creating a new dataframe with only the desired columns for further work:"
   ]
  },
  {
   "cell_type": "code",
   "execution_count": 9,
   "metadata": {},
   "outputs": [
    {
     "name": "stdout",
     "output_type": "stream",
     "text": [
      "+-----+--------------------+\n",
      "|label|             comment|\n",
      "+-----+--------------------+\n",
      "|    0|          NC and NH.|\n",
      "|    0|You do know west ...|\n",
      "|    0|They were underdo...|\n",
      "|    0|\"This meme isn't ...|\n",
      "|    0|I could use one o...|\n",
      "+-----+--------------------+\n",
      "only showing top 5 rows\n",
      "\n"
     ]
    }
   ],
   "source": [
    "# using \"df.select\" to only select the \"label\"- and \"comment\"-columns\n",
    "df_sarcasm2 = df_sarcasm.select(\"label\", \"comment\")\n",
    "df_sarcasm2.show(5)"
   ]
  },
  {
   "cell_type": "markdown",
   "metadata": {},
   "source": [
    "##  Data Preprocessing"
   ]
  },
  {
   "cell_type": "markdown",
   "metadata": {},
   "source": [
    "Importing the packages for preprocessing and model creation:"
   ]
  },
  {
   "cell_type": "code",
   "execution_count": 10,
   "metadata": {},
   "outputs": [],
   "source": [
    "from pyspark.ml.classification import LogisticRegression\n",
    "from pyspark.ml.classification import NaiveBayes\n",
    "from pyspark.ml.classification import DecisionTreeClassifier\n",
    "from pyspark.ml.classification import RandomForestClassifier\n",
    "from pyspark.ml.feature import CountVectorizer\n",
    "\n",
    "from pyspark.sql.functions import regexp_replace, col\n",
    "from pyspark.ml.feature import Tokenizer, NGram\n",
    "from pyspark.sql import functions as F\n",
    "from pyspark.ml.feature import StopWordsRemover, HashingTF, IDF"
   ]
  },
  {
   "cell_type": "markdown",
   "metadata": {},
   "source": [
    "Removing special characters, numbers and quotations from the comments and dropping rows that miss values:"
   ]
  },
  {
   "cell_type": "code",
   "execution_count": 11,
   "metadata": {},
   "outputs": [
    {
     "name": "stdout",
     "output_type": "stream",
     "text": [
      "+-----+--------------------+\n",
      "|label|             comment|\n",
      "+-----+--------------------+\n",
      "|    0|           NC and NH|\n",
      "|    0|You do know west ...|\n",
      "|    0|They were underdo...|\n",
      "|    0|This meme isn't f...|\n",
      "|    0|I could use one o...|\n",
      "+-----+--------------------+\n",
      "only showing top 5 rows\n",
      "\n"
     ]
    }
   ],
   "source": [
    "# using the \"df.withColumn\"-method to create a function that handles numbers and special characters \n",
    "def preprocessing(df):\n",
    "    # removes special characters, numbers and quotation marks from a dataframe\n",
    "    df = df.withColumn(\"comment\", F.regexp_replace(col(\"comment\"), \"[_():;,.!?\\\\-]\", \"\"))\n",
    "    df = df.withColumn(\"comment\", F.regexp_replace(col(\"comment\"), \"[0-9]\", \"\"))\n",
    "    df = df.withColumn(\"comment\", F.regexp_replace(col(\"comment\"), '\"', \"\"))\n",
    "    # by specifying \"how=any\" all rows where one of the values in a column is null are dropped\n",
    "    df = df.dropna(how=\"any\")\n",
    "    return df\n",
    "\n",
    "# applying the function to the dataframe\n",
    "pre = preprocessing(df_sarcasm2)\n",
    "pre.show(5)"
   ]
  },
  {
   "cell_type": "markdown",
   "metadata": {},
   "source": [
    "Checking how many rows were dropped:"
   ]
  },
  {
   "cell_type": "code",
   "execution_count": 12,
   "metadata": {},
   "outputs": [
    {
     "name": "stdout",
     "output_type": "stream",
     "text": [
      "Number of rows after initial preprocessing: 59998\n"
     ]
    }
   ],
   "source": [
    "# checking how many rows were dropped by counting the rows in the preprocessed dataframe\n",
    "print(f\"Number of rows after initial preprocessing: {pre.count()}\")"
   ]
  },
  {
   "cell_type": "markdown",
   "metadata": {},
   "source": [
    "After the initial preprocessing steps, we removed special characters and dropped a few rows of the dataframe which contained empty values. "
   ]
  },
  {
   "cell_type": "markdown",
   "metadata": {},
   "source": [
    "Tokenizing means turning the text into an array of words for further processing."
   ]
  },
  {
   "cell_type": "code",
   "execution_count": 13,
   "metadata": {},
   "outputs": [
    {
     "name": "stdout",
     "output_type": "stream",
     "text": [
      "+-----+--------------------+--------------------+\n",
      "|label|             comment|               words|\n",
      "+-----+--------------------+--------------------+\n",
      "|    0|           NC and NH|       [nc, and, nh]|\n",
      "|    0|You do know west ...|[you, do, know, w...|\n",
      "|    0|They were underdo...|[they, were, unde...|\n",
      "|    0|This meme isn't f...|[this, meme, isn'...|\n",
      "|    0|I could use one o...|[i, could, use, o...|\n",
      "+-----+--------------------+--------------------+\n",
      "only showing top 5 rows\n",
      "\n"
     ]
    }
   ],
   "source": [
    "# tokenizing the text-column (splitting the comments into arrays of words)\n",
    "tokenizer = Tokenizer(inputCol=\"comment\", outputCol=\"words\")\n",
    "tokenized = tokenizer.transform(pre)\n",
    "tokenized.show(5)"
   ]
  },
  {
   "cell_type": "markdown",
   "metadata": {},
   "source": [
    "Stemming or lemmatization  simplifies tokens to their root forms, enhancing uniformity and the efficacy of subsequent stop word filtering by ensuring consistent treatment of word variations."
   ]
  },
  {
   "cell_type": "code",
   "execution_count": 14,
   "metadata": {},
   "outputs": [
    {
     "name": "stdout",
     "output_type": "stream",
     "text": [
      "Requirement already satisfied: nltk in /opt/conda/lib/python3.8/site-packages (3.8.1)\n",
      "Requirement already satisfied: regex>=2021.8.3 in /opt/conda/lib/python3.8/site-packages (from nltk) (2023.12.25)\n",
      "Requirement already satisfied: joblib in /opt/conda/lib/python3.8/site-packages (from nltk) (0.17.0)\n",
      "Requirement already satisfied: click in /opt/conda/lib/python3.8/site-packages (from nltk) (7.1.2)\n",
      "Requirement already satisfied: tqdm in /opt/conda/lib/python3.8/site-packages (from nltk) (4.51.0)\n",
      "+-----+--------------------+--------------------+--------------------+\n",
      "|label|             comment|               words|     lemmatizedWords|\n",
      "+-----+--------------------+--------------------+--------------------+\n",
      "|    0|           NC and NH|       [nc, and, nh]|       [nc, and, nh]|\n",
      "|    0|You do know west ...|[you, do, know, w...|[you, do, know, w...|\n",
      "|    0|They were underdo...|[they, were, unde...|[they, were, unde...|\n",
      "|    0|This meme isn't f...|[this, meme, isn'...|[this, meme, isn'...|\n",
      "|    0|I could use one o...|[i, could, use, o...|[i, could, use, o...|\n",
      "+-----+--------------------+--------------------+--------------------+\n",
      "only showing top 5 rows\n",
      "\n"
     ]
    }
   ],
   "source": [
    "# Install the NLTK library using pip, a package installer for Python\n",
    "!pip install nltk\n",
    "\n",
    "# Importing necessary functions and types from pyspark.sql module for working with Spark DataFrames\n",
    "from pyspark.sql.functions import udf\n",
    "from pyspark.sql.types import ArrayType, StringType\n",
    "\n",
    "# Importing WordNetLemmatizer from NLTK for lemmatization\n",
    "from nltk.stem import WordNetLemmatizer\n",
    "\n",
    "# Initialize the WordNetLemmatizer to be used for converting words to their base or lemma form\n",
    "lemmatizer = WordNetLemmatizer()\n",
    "\n",
    "# Define a UDF for lemmatizing an array of words\n",
    "def lemmatize_words(words):\n",
    "    return [lemmatizer.lemmatize(word) for word in words]\n",
    "\n",
    "lemmatize_udf = udf(lemmatize_words, ArrayType(StringType()))\n",
    "\n",
    "# Apply the UDF to the tokenized words\n",
    "lemmatized = tokenized.withColumn(\"lemmatizedWords\", lemmatize_udf(\"words\"))\n",
    "\n",
    "lemmatized.show(5)"
   ]
  },
  {
   "cell_type": "markdown",
   "metadata": {},
   "source": [
    "Handling abbreviations and slang like \"lol\", especially important after lemmatization"
   ]
  },
  {
   "cell_type": "code",
   "execution_count": 15,
   "metadata": {},
   "outputs": [
    {
     "name": "stdout",
     "output_type": "stream",
     "text": [
      "+-----------------------+\n",
      "|expandedLemmatizedWords|\n",
      "+-----------------------+\n",
      "|          [nc, and, nh]|\n",
      "|   [you, do, know, w...|\n",
      "|   [they, were, unde...|\n",
      "|   [this, meme, isn'...|\n",
      "|   [i, could, use, o...|\n",
      "+-----------------------+\n",
      "only showing top 5 rows\n",
      "\n"
     ]
    }
   ],
   "source": [
    "# Create a dictionary for common abbreviations and slang terms\n",
    "abbr_slang_dict = {\n",
    "    \"lol\": \"laughing out loud\",\n",
    "    \"brb\": \"be right back\",\n",
    "    \"gtg\": \"got to go\",\n",
    "    \"idk\": \"I don't know\",\n",
    "    \"imo\": \"in my opinion\",\n",
    "    \"smh\": \"shaking my head\",\n",
    "    \"tbh\": \"to be honest\",\n",
    "    \"fyi\": \"for your information\"\n",
    "}\n",
    "\n",
    "# Implement a function to expand abbreviations and slang in text\n",
    "def expand_abbr_slang(text_list):\n",
    "    expanded_text = []\n",
    "    for word in text_list:\n",
    "        if word.lower() in abbr_slang_dict:\n",
    "            expanded_text.append(abbr_slang_dict[word.lower()])\n",
    "        else:\n",
    "            expanded_text.append(word)\n",
    "    return expanded_text\n",
    "\n",
    "# Convert the function to a UDF\n",
    "expand_abbr_slang_udf = udf(expand_abbr_slang, ArrayType(StringType()))\n",
    "\n",
    "# Apply the UDF to the DataFrame column containing lemmatized words\n",
    "expanded_lemmatized = lemmatized.withColumn(\"expandedLemmatizedWords\", expand_abbr_slang_udf(\"lemmatizedWords\"))\n",
    "\n",
    "# Show the results\n",
    "expanded_lemmatized.select(\"expandedLemmatizedWords\").show(5)"
   ]
  },
  {
   "cell_type": "markdown",
   "metadata": {},
   "source": [
    "Remove common stop words (frequently occurring words that are usually ignored in text processing) from the lemmatized text, transforming the original \"words\" column into a new \"terms\" column with stop words removed, enhancing the focus on more meaningful words for analysis."
   ]
  },
  {
   "cell_type": "code",
   "execution_count": 16,
   "metadata": {},
   "outputs": [
    {
     "name": "stdout",
     "output_type": "stream",
     "text": [
      "+-----+--------------------+--------------------+--------------------+-----------------------+--------------------+\n",
      "|label|             comment|               words|     lemmatizedWords|expandedLemmatizedWords|               terms|\n",
      "+-----+--------------------+--------------------+--------------------+-----------------------+--------------------+\n",
      "|    0|           NC and NH|       [nc, and, nh]|       [nc, and, nh]|          [nc, and, nh]|            [nc, nh]|\n",
      "|    0|You do know west ...|[you, do, know, w...|[you, do, know, w...|   [you, do, know, w...|[know, west, team...|\n",
      "|    0|They were underdo...|[they, were, unde...|[they, were, unde...|   [they, were, unde...|[underdogs, earli...|\n",
      "|    0|This meme isn't f...|[this, meme, isn'...|[this, meme, isn'...|   [this, meme, isn'...|[meme, funny, non...|\n",
      "|    0|I could use one o...|[i, could, use, o...|[i, could, use, o...|   [i, could, use, o...|   [use, one, tools]|\n",
      "+-----+--------------------+--------------------+--------------------+-----------------------+--------------------+\n",
      "only showing top 5 rows\n",
      "\n"
     ]
    }
   ],
   "source": [
    "# creating a StopWordsRemover object\n",
    "stopwordsremover = StopWordsRemover(inputCol=\"words\", outputCol=\"terms\")\n",
    "# using it on the current dataframe\n",
    "wo_stop = stopwordsremover.transform(expanded_lemmatized)\n",
    "wo_stop.show(5)"
   ]
  },
  {
   "cell_type": "markdown",
   "metadata": {},
   "source": [
    "This step generates bigrams (pairs of adjacent words) from the tokenized text in the \"words\" column of the DataFrame wo_stop, creating a new column \"ngrams\" that contains these bigrams, which can capture more contextual information and relationships between words for further analysis"
   ]
  },
  {
   "cell_type": "code",
   "execution_count": 17,
   "metadata": {},
   "outputs": [
    {
     "name": "stdout",
     "output_type": "stream",
     "text": [
      "+-----+--------------------+--------------------+--------------------+-----------------------+--------------------+--------------------+\n",
      "|label|             comment|               words|     lemmatizedWords|expandedLemmatizedWords|               terms|              ngrams|\n",
      "+-----+--------------------+--------------------+--------------------+-----------------------+--------------------+--------------------+\n",
      "|    0|           NC and NH|       [nc, and, nh]|       [nc, and, nh]|          [nc, and, nh]|            [nc, nh]|    [nc and, and nh]|\n",
      "|    0|You do know west ...|[you, do, know, w...|[you, do, know, w...|   [you, do, know, w...|[know, west, team...|[you do, do know,...|\n",
      "|    0|They were underdo...|[they, were, unde...|[they, were, unde...|   [they, were, unde...|[underdogs, earli...|[they were, were ...|\n",
      "|    0|This meme isn't f...|[this, meme, isn'...|[this, meme, isn'...|   [this, meme, isn'...|[meme, funny, non...|[this meme, meme ...|\n",
      "|    0|I could use one o...|[i, could, use, o...|[i, could, use, o...|   [i, could, use, o...|   [use, one, tools]|[i could, could u...|\n",
      "+-----+--------------------+--------------------+--------------------+-----------------------+--------------------+--------------------+\n",
      "only showing top 5 rows\n",
      "\n"
     ]
    }
   ],
   "source": [
    "# Assuming 'tokenized' is your DataFrame with a column named \"words\" that contains the tokenized text\n",
    "ngram = NGram(n=2, inputCol=\"words\", outputCol=\"ngrams\")\n",
    "ngram_df = ngram.transform(wo_stop)\n",
    "\n",
    "ngram_df.show(5)"
   ]
  },
  {
   "cell_type": "markdown",
   "metadata": {},
   "source": [
    "This step applies the CountVectorizer to convert the n-grams generated in the previous step into feature vectors, effectively creating a sparse matrix representation where each column corresponds to a specific n-gram and each cell contains the count of occurrences of that n-gram in a document. The transformation results in a new column \"features\" in the DataFrame cv_df, which holds these vectorized features, making the data suitable for input into machine learning models."
   ]
  },
  {
   "cell_type": "code",
   "execution_count": 18,
   "metadata": {},
   "outputs": [
    {
     "name": "stdout",
     "output_type": "stream",
     "text": [
      "+--------------------+\n",
      "|            features|\n",
      "+--------------------+\n",
      "|(250303,[26577,74...|\n",
      "|(250303,[161,400,...|\n",
      "|(250303,[132,4630...|\n",
      "|(250303,[1,236,10...|\n",
      "|(250303,[70,276,3...|\n",
      "+--------------------+\n",
      "only showing top 5 rows\n",
      "\n"
     ]
    }
   ],
   "source": [
    "# Instantiate CountVectorizer to transform n-grams into feature vectors\n",
    "cv = CountVectorizer(inputCol=\"ngrams\", outputCol=\"features\")\n",
    "\n",
    "# Fit the model and transform the data\n",
    "cv_model = cv.fit(ngram_df)\n",
    "cv_df = cv_model.transform(ngram_df)\n",
    "\n",
    "cv_df.select(\"features\").show(5)"
   ]
  },
  {
   "cell_type": "markdown",
   "metadata": {},
   "source": [
    "This step transforms the text in the \"terms\" column of the cv_df DataFrame into fixed-size numerical feature vectors using \"HashingTF\", assigning each word a hash index with frequency counts in vectors stored in a new \"hash\" column of the hashed DataFrame, thus efficiently preparing the text data for machine learning models with each vector containing 1024 features."
   ]
  },
  {
   "cell_type": "code",
   "execution_count": 19,
   "metadata": {},
   "outputs": [
    {
     "name": "stdout",
     "output_type": "stream",
     "text": [
      "+-----+--------------------+--------------------+--------------------+-----------------------+--------------------+--------------------+--------------------+--------------------+\n",
      "|label|             comment|               words|     lemmatizedWords|expandedLemmatizedWords|               terms|              ngrams|            features|                hash|\n",
      "+-----+--------------------+--------------------+--------------------+-----------------------+--------------------+--------------------+--------------------+--------------------+\n",
      "|    0|           NC and NH|       [nc, and, nh]|       [nc, and, nh]|          [nc, and, nh]|            [nc, nh]|    [nc and, and nh]|(250303,[26577,74...|(1024,[232,499],[...|\n",
      "|    0|You do know west ...|[you, do, know, w...|[you, do, know, w...|   [you, do, know, w...|[know, west, team...|[you do, do know,...|(250303,[161,400,...|(1024,[48,77,477,...|\n",
      "|    0|They were underdo...|[they, were, unde...|[they, were, unde...|   [they, were, unde...|[underdogs, earli...|[they were, were ...|(250303,[132,4630...|(1024,[131,156,24...|\n",
      "|    0|This meme isn't f...|[this, meme, isn'...|[this, meme, isn'...|   [this, meme, isn'...|[meme, funny, non...|[this meme, meme ...|(250303,[1,236,10...|(1024,[87,151,202...|\n",
      "|    0|I could use one o...|[i, could, use, o...|[i, could, use, o...|   [i, could, use, o...|   [use, one, tools]|[i could, could u...|(250303,[70,276,3...|(1024,[319,413,86...|\n",
      "+-----+--------------------+--------------------+--------------------+-----------------------+--------------------+--------------------+--------------------+--------------------+\n",
      "only showing top 5 rows\n",
      "\n"
     ]
    }
   ],
   "source": [
    "# perform feature hashing for term frequency\n",
    "hashingTF = HashingTF(inputCol=\"terms\", outputCol=\"hash\", numFeatures=1024)\n",
    "hashed = hashingTF.transform(cv_df)\n",
    "hashed.show(5)"
   ]
  },
  {
   "cell_type": "markdown",
   "metadata": {},
   "source": [
    "This process converts n-grams in cv_df to term frequency vectors using \"HashingTF\", then applies \"IDF\" to produce TF-IDF vectors in tfidf_df, creating a refined numerical representation of text for machine learning."
   ]
  },
  {
   "cell_type": "code",
   "execution_count": 20,
   "metadata": {},
   "outputs": [
    {
     "name": "stdout",
     "output_type": "stream",
     "text": [
      "+--------------------+\n",
      "|         idfFeatures|\n",
      "+--------------------+\n",
      "|(1024,[436,563],[...|\n",
      "|(1024,[30,204,387...|\n",
      "|(1024,[143,165,18...|\n",
      "|(1024,[127,276,60...|\n",
      "|(1024,[17,197,276...|\n",
      "+--------------------+\n",
      "only showing top 5 rows\n",
      "\n"
     ]
    }
   ],
   "source": [
    "# convert n-grams into term frequency vectors\n",
    "hashingTF = HashingTF(inputCol=\"ngrams\", outputCol=\"rawFeatures\", numFeatures=1024)\n",
    "featurizedData = hashingTF.transform(cv_df)\n",
    "\n",
    "# Compute the IDF model and transform the data with a new output column name\n",
    "idf = IDF(inputCol=\"rawFeatures\", outputCol=\"idfFeatures\")  # Change output column name\n",
    "idfModel = idf.fit(featurizedData)\n",
    "tfidf_df = idfModel.transform(featurizedData)\n",
    "\n",
    "tfidf_df.select(\"idfFeatures\").show(5)"
   ]
  },
  {
   "cell_type": "code",
   "execution_count": 21,
   "metadata": {},
   "outputs": [
    {
     "name": "stdout",
     "output_type": "stream",
     "text": [
      "+--------------------+\n",
      "|      newIdfFeatures|\n",
      "+--------------------+\n",
      "|(1024,[436,563],[...|\n",
      "|(1024,[30,204,387...|\n",
      "|(1024,[143,165,18...|\n",
      "|(1024,[127,276,60...|\n",
      "|(1024,[17,197,276...|\n",
      "+--------------------+\n",
      "only showing top 5 rows\n",
      "\n"
     ]
    }
   ],
   "source": [
    "idf = IDF(inputCol=\"rawFeatures\", outputCol=\"newIdfFeatures\") \n",
    "idfModel = idf.fit(featurizedData)  \n",
    "tfidf_df = idfModel.transform(featurizedData)\n",
    "tfidf_df.select(\"newIdfFeatures\").show(5)"
   ]
  },
  {
   "cell_type": "markdown",
   "metadata": {},
   "source": [
    "Splitting the final dataframe into training and testing data:"
   ]
  },
  {
   "cell_type": "code",
   "execution_count": 22,
   "metadata": {},
   "outputs": [],
   "source": [
    "# using randomSplit to split the data in a 80:20 proportion, setting a seed to ensure reproducibility\n",
    "sarcasm_train, sarcasm_test = tfidf_df.randomSplit([0.8,0.2], seed=123)"
   ]
  },
  {
   "cell_type": "markdown",
   "metadata": {},
   "source": [
    "## Model creation "
   ]
  },
  {
   "cell_type": "markdown",
   "metadata": {},
   "source": [
    "### Logistic regression model"
   ]
  },
  {
   "cell_type": "code",
   "execution_count": 23,
   "metadata": {},
   "outputs": [
    {
     "name": "stdout",
     "output_type": "stream",
     "text": [
      "+-----+----------+-----+\n",
      "|label|prediction|count|\n",
      "+-----+----------+-----+\n",
      "|    1|       0.0| 2411|\n",
      "|    0|       0.0| 3638|\n",
      "|    1|       1.0| 3530|\n",
      "|    0|       1.0| 2439|\n",
      "+-----+----------+-----+\n",
      "\n"
     ]
    }
   ],
   "source": [
    "# trying logistic regression, which is best suited for binary classification, on the preprocessed data\n",
    "lr = LogisticRegression()\n",
    "lr_model = lr.fit(sarcasm_train)\n",
    "lr_prediction = lr_model.transform(sarcasm_test)\n",
    "lr_prediction.groupBy(\"label\", \"prediction\").count().show()"
   ]
  },
  {
   "cell_type": "markdown",
   "metadata": {},
   "source": [
    "#### Performance evaluation"
   ]
  },
  {
   "cell_type": "code",
   "execution_count": 24,
   "metadata": {},
   "outputs": [
    {
     "name": "stdout",
     "output_type": "stream",
     "text": [
      "Accuracy of the Logistic Regression Model: 0.5964386753203528\n"
     ]
    }
   ],
   "source": [
    "# computing the accuracy of the logistic regression model\n",
    "# Count total number of predictions\n",
    "total_predictions = lr_prediction.count()\n",
    "# Count correct predictions\n",
    "correct_predictions = lr_prediction.filter(col(\"prediction\") == col(\"label\")).count()\n",
    "# Calculate accuracy\n",
    "lr_acc = correct_predictions / total_predictions\n",
    "print(f\"Accuracy of the Logistic Regression Model: {lr_acc}\")"
   ]
  },
  {
   "cell_type": "code",
   "execution_count": 25,
   "metadata": {},
   "outputs": [
    {
     "name": "stdout",
     "output_type": "stream",
     "text": [
      "Recall of the Logistic Regression Model: 0.5913888423521528\n"
     ]
    }
   ],
   "source": [
    "# getting the recall of the model\n",
    "# Count true positives\n",
    "tp = lr_prediction.filter((col(\"prediction\") == col(\"label\")) & (col(\"label\") == 1)).count()\n",
    "# Count false negatives\n",
    "fn = lr_prediction.filter((col(\"prediction\") != col(\"label\")) & (col(\"label\") == 0)).count()\n",
    "# Calculate recall\n",
    "lr_re = tp / (tp + fn)\n",
    "print(f\"Recall of the Logistic Regression Model: {lr_re}\")"
   ]
  },
  {
   "cell_type": "code",
   "execution_count": 26,
   "metadata": {},
   "outputs": [
    {
     "name": "stdout",
     "output_type": "stream",
     "text": [
      "Precision of Logistic Regression Model: 0.5941760646355833\n"
     ]
    }
   ],
   "source": [
    "# getting the precision of the model\n",
    "# Count true positives\n",
    "tp = lr_prediction.filter((col('prediction') == col('label')) & (col('label') == 1)).count()\n",
    "# Count false positives\n",
    "fp = lr_prediction.filter((col('prediction') != col('label')) & (col('label') == 1)).count()\n",
    "# Calculate precision\n",
    "lr_pre = tp / (tp + fp)\n",
    "print(f\"Precision of Logistic Regression Model: {lr_pre}\")"
   ]
  },
  {
   "cell_type": "markdown",
   "metadata": {},
   "source": [
    "### Naive Bayes Model"
   ]
  },
  {
   "cell_type": "markdown",
   "metadata": {},
   "source": [
    "We will use a multinomial naive bayes model, as it is intended for natural language processing "
   ]
  },
  {
   "cell_type": "code",
   "execution_count": 27,
   "metadata": {},
   "outputs": [
    {
     "name": "stdout",
     "output_type": "stream",
     "text": [
      "+-----+----------+\n",
      "|label|prediction|\n",
      "+-----+----------+\n",
      "|    0|       1.0|\n",
      "|    0|       1.0|\n",
      "|    0|       1.0|\n",
      "|    0|       1.0|\n",
      "|    0|       1.0|\n",
      "+-----+----------+\n",
      "only showing top 5 rows\n",
      "\n"
     ]
    }
   ],
   "source": [
    "# creating an instance of a naive bayes model of multinomial type\n",
    "nb = NaiveBayes(modelType=\"multinomial\")\n",
    "# fitting the model to training data and letting it predict the label of the test data\n",
    "nb_model = nb.fit(sarcasm_train)\n",
    "nb_prediction = nb_model.transform(sarcasm_test)\n",
    "nb_prediction.select(\"label\", \"prediction\").show(5)"
   ]
  },
  {
   "cell_type": "markdown",
   "metadata": {},
   "source": [
    "#### Performance evaluation"
   ]
  },
  {
   "cell_type": "code",
   "execution_count": 28,
   "metadata": {},
   "outputs": [
    {
     "name": "stdout",
     "output_type": "stream",
     "text": [
      "Accuracy of the Naive Bayes Model: 0.6161590946912964\n"
     ]
    }
   ],
   "source": [
    "#evaluating the naive bayes classifier with accuracy\n",
    "# Count total number of predictions\n",
    "total_predictions = nb_prediction.count()\n",
    "# Count correct predictions\n",
    "correct_predictions = nb_prediction.filter(col(\"prediction\") == col(\"label\")).count()\n",
    "# Calculate accuracy\n",
    "nb_acc = correct_predictions / total_predictions\n",
    "print(f\"Accuracy of the Naive Bayes Model: {nb_acc}\")"
   ]
  },
  {
   "cell_type": "code",
   "execution_count": 29,
   "metadata": {},
   "outputs": [
    {
     "name": "stdout",
     "output_type": "stream",
     "text": [
      "Recall of the Naive Bayes Model: 0.5915104740904079\n"
     ]
    }
   ],
   "source": [
    "# getting the recall of the model\n",
    "# Count true positives\n",
    "tp = nb_prediction.filter((col(\"prediction\") == col(\"label\")) & (col(\"label\") == 1)).count()\n",
    "# Count false negatives\n",
    "fn = nb_prediction.filter((col(\"prediction\") != col(\"label\")) & (col(\"label\") == 0)).count()\n",
    "# Calculate recall\n",
    "nb_re = tp / (tp + fn)\n",
    "print(f\"Recall of the Naive Bayes Model: {nb_re}\")"
   ]
  },
  {
   "cell_type": "code",
   "execution_count": 30,
   "metadata": {},
   "outputs": [
    {
     "name": "stdout",
     "output_type": "stream",
     "text": [
      "Precision of Naive Bayes Model: 0.7224373001178253\n"
     ]
    }
   ],
   "source": [
    "# getting the precision of the model\n",
    "# Count true positives\n",
    "tp = nb_prediction.filter((col('prediction') == col('label')) & (col('label') == 1)).count()\n",
    "\n",
    "# Count false positives\n",
    "fp = nb_prediction.filter((col('prediction') != col('label')) & (col('label') == 1)).count()\n",
    "\n",
    "# Calculate precision\n",
    "nb_pre = tp / (tp + fp)\n",
    "print(f\"Precision of Naive Bayes Model: {nb_pre}\")"
   ]
  },
  {
   "cell_type": "markdown",
   "metadata": {},
   "source": [
    "### Decision Tree Model"
   ]
  },
  {
   "cell_type": "code",
   "execution_count": 31,
   "metadata": {},
   "outputs": [
    {
     "name": "stdout",
     "output_type": "stream",
     "text": [
      "+-----+----------+\n",
      "|label|prediction|\n",
      "+-----+----------+\n",
      "|    0|       0.0|\n",
      "|    0|       0.0|\n",
      "|    0|       0.0|\n",
      "|    0|       0.0|\n",
      "|    0|       0.0|\n",
      "+-----+----------+\n",
      "only showing top 5 rows\n",
      "\n"
     ]
    }
   ],
   "source": [
    "# creating an instance of the decision tree classifier\n",
    "dt = DecisionTreeClassifier()\n",
    "# training the model on the training data and testing its performance with the remaining data\n",
    "dt_model = dt.fit(sarcasm_train)\n",
    "dt_prediction = dt_model.transform(sarcasm_test)\n",
    "dt_prediction.select(\"label\", \"prediction\").show(5)"
   ]
  },
  {
   "cell_type": "markdown",
   "metadata": {},
   "source": [
    "#### Performance evaluation"
   ]
  },
  {
   "cell_type": "code",
   "execution_count": 32,
   "metadata": {},
   "outputs": [
    {
     "name": "stdout",
     "output_type": "stream",
     "text": [
      "Accuracy of the Decision Tree Model: 0.5224663005491762\n"
     ]
    }
   ],
   "source": [
    "# getting the accuracy of the model\n",
    "# Count total number of predictions\n",
    "total_predictions = dt_prediction.count()\n",
    "# Count correct predictions\n",
    "correct_predictions = dt_prediction.filter(col(\"prediction\") == col(\"label\")).count()\n",
    "# Calculate accuracy\n",
    "dt_acc = correct_predictions / total_predictions\n",
    "print(f\"Accuracy of the Decision Tree Model: {dt_acc}\")"
   ]
  },
  {
   "cell_type": "code",
   "execution_count": 33,
   "metadata": {},
   "outputs": [
    {
     "name": "stdout",
     "output_type": "stream",
     "text": [
      "Recall of the Decision Tree Model: 0.9243697478991597\n"
     ]
    }
   ],
   "source": [
    "# getting the recall of the model\n",
    "# Count true positives\n",
    "tp = dt_prediction.filter((col(\"prediction\") == col(\"label\")) & (col(\"label\") == 1)).count()\n",
    "# Count false negatives\n",
    "fn = dt_prediction.filter((col(\"prediction\") != col(\"label\")) & (col(\"label\") == 0)).count()\n",
    "# Calculate recall\n",
    "dt_re = tp / (tp + fn)\n",
    "print(f\"Recall of the Decision Tree Model: {dt_re}\")"
   ]
  },
  {
   "cell_type": "code",
   "execution_count": 34,
   "metadata": {},
   "outputs": [
    {
     "name": "stdout",
     "output_type": "stream",
     "text": [
      "Precision of Decision Tree Model: 0.0370308028951355\n"
     ]
    }
   ],
   "source": [
    "# getting the precision of the model\n",
    "# Count true positives\n",
    "tp = dt_prediction.filter((col('prediction') == col('label')) & (col('label') == 1)).count()\n",
    "# Count false positives\n",
    "fp = dt_prediction.filter((col('prediction') != col('label')) & (col('label') == 1)).count()\n",
    "# Calculate precision\n",
    "dt_pre = tp / (tp + fp)\n",
    "print(f\"Precision of Decision Tree Model: {dt_pre}\")"
   ]
  },
  {
   "cell_type": "markdown",
   "metadata": {},
   "source": [
    "### Random Forest Model"
   ]
  },
  {
   "cell_type": "code",
   "execution_count": 35,
   "metadata": {},
   "outputs": [
    {
     "name": "stdout",
     "output_type": "stream",
     "text": [
      "+-----+----------+\n",
      "|label|prediction|\n",
      "+-----+----------+\n",
      "|    0|       1.0|\n",
      "|    0|       1.0|\n",
      "|    0|       1.0|\n",
      "|    0|       1.0|\n",
      "|    0|       1.0|\n",
      "+-----+----------+\n",
      "only showing top 5 rows\n",
      "\n"
     ]
    }
   ],
   "source": [
    "# creating an instance of the random forest classifier\n",
    "forest = RandomForestClassifier()\n",
    "# training the model with the training data and then testing it\n",
    "forest_model = forest.fit(sarcasm_train)\n",
    "forest_prediction = forest_model.transform(sarcasm_test)\n",
    "forest_prediction.select(\"label\", \"prediction\").show(5)"
   ]
  },
  {
   "cell_type": "markdown",
   "metadata": {},
   "source": [
    "#### Performance evaluation"
   ]
  },
  {
   "cell_type": "code",
   "execution_count": 36,
   "metadata": {},
   "outputs": [
    {
     "name": "stdout",
     "output_type": "stream",
     "text": [
      "Accuracy of the Random Forest Model: 0.509069728740223\n"
     ]
    }
   ],
   "source": [
    "# getting the accuracy of the model\n",
    "# Count total number of predictions\n",
    "total_predictions = forest_prediction.count()\n",
    "# Count correct predictions\n",
    "correct_predictions = forest_prediction.filter(col(\"prediction\") == col(\"label\")).count()\n",
    "# Calculate accuracy\n",
    "forest_acc = correct_predictions / total_predictions\n",
    "print(f\"Accuracy of the Random Forest Model: {forest_acc}\")"
   ]
  },
  {
   "cell_type": "code",
   "execution_count": 37,
   "metadata": {},
   "outputs": [
    {
     "name": "stdout",
     "output_type": "stream",
     "text": [
      "Recall of the Random Forest Model: 0.5017805958481716\n"
     ]
    }
   ],
   "source": [
    "# getting the recall of the model\n",
    "# Count true positives\n",
    "tp = forest_prediction.filter((col(\"prediction\") == col(\"label\")) & (col(\"label\") == 1)).count()\n",
    "# Count false negatives\n",
    "fn = forest_prediction.filter((col(\"prediction\") != col(\"label\")) & (col(\"label\") == 0)).count()\n",
    "# Calculate recall\n",
    "forest_re = tp / (tp + fn)\n",
    "print(f\"Recall of the Random Forest Model: {forest_re}\")"
   ]
  },
  {
   "cell_type": "code",
   "execution_count": 38,
   "metadata": {},
   "outputs": [
    {
     "name": "stdout",
     "output_type": "stream",
     "text": [
      "Precision of Random Forest Model: 0.9723952196599899\n"
     ]
    }
   ],
   "source": [
    "# getting the precision of the model\n",
    "# Count true positives\n",
    "tp = forest_prediction.filter((col('prediction') == col('label')) & (col('label') == 1)).count()\n",
    "# Count false positives\n",
    "fp = forest_prediction.filter((col('prediction') != col('label')) & (col('label') == 1)).count()\n",
    "# Calculate precision\n",
    "forest_pre = tp / (tp + fp)\n",
    "print(f\"Precision of Random Forest Model: {forest_pre}\")"
   ]
  },
  {
   "cell_type": "markdown",
   "metadata": {},
   "source": [
    "## Visualization"
   ]
  },
  {
   "cell_type": "markdown",
   "metadata": {},
   "source": [
    "#### Importing packages"
   ]
  },
  {
   "cell_type": "code",
   "execution_count": 39,
   "metadata": {},
   "outputs": [],
   "source": [
    "# importing the necessary packages for the plot\n",
    "import numpy as np\n",
    "import matplotlib.pyplot as plt "
   ]
  },
  {
   "cell_type": "markdown",
   "metadata": {},
   "source": [
    "## Plotting the accuracy results"
   ]
  },
  {
   "cell_type": "code",
   "execution_count": 40,
   "metadata": {},
   "outputs": [
    {
     "data": {
      "image/png": "[encoded data removed]",
      "text/plain": [
       "<Figure size 432x288 with 1 Axes>"
      ]
     },
     "metadata": {
      "needs_background": "light"
     },
     "output_type": "display_data"
    }
   ],
   "source": [
    "# defining the names of the models and the corresponding accuracy values as lists\n",
    "models = [\"Logistic Regression\", \"Naive Bayes\", \"Decision Tree\", \"Random Forest\"]\n",
    "values = [lr_acc, nb_acc, dt_acc, forest_acc]\n",
    "\n",
    "# creating a bar plot that takes the two lists as input \n",
    "bars = plt.bar(models, values, color =\"maroon\", width = 0.4)\n",
    "\n",
    "# adding the rounded values on top of the bars in the plot\n",
    "for bar in bars:\n",
    "    height = bar.get_height()\n",
    "    plt.text(bar.get_x() + bar.get_width() /  2, height, \"{:.2f}\".format(height), ha=\"center\", va=\"bottom\")\n",
    "\n",
    "# labelling the plot's axes and giving it a title\n",
    "plt.xlabel(\"Models\")\n",
    "plt.ylabel(\"Accuracy\")\n",
    "plt.title(\"Accuracy values of different models in comparison\")\n",
    "\n",
    "# displaying the final plot\n",
    "plt.show()"
   ]
  },
  {
   "cell_type": "markdown",
   "metadata": {},
   "source": [
    "Accuracy is the most general of the three measurements which we computed. It gives the percentage of the made predictions by the model that are correct, or, in other words, the probability of a random prediction by the model being correct. It is one of the best indicators for model performance.  "
   ]
  },
  {
   "cell_type": "markdown",
   "metadata": {},
   "source": [
    "## Plotting the recall results"
   ]
  },
  {
   "cell_type": "code",
   "execution_count": 41,
   "metadata": {},
   "outputs": [
    {
     "data": {
      "image/png": "[encoded data removed]",
      "text/plain": [
       "<Figure size 432x288 with 1 Axes>"
      ]
     },
     "metadata": {
      "needs_background": "light"
     },
     "output_type": "display_data"
    }
   ],
   "source": [
    "# defining the names of the models and the corresponding recall values as lists\n",
    "models = [\"Logistic Regression\", \"Naive Bayes\", \"Decision Tree\", \"Random Forest\"]\n",
    "values = [lr_re, nb_re, dt_re, forest_re]\n",
    "\n",
    "# creating a bar plot that takes the two lists as input \n",
    "bars = plt.bar(models, values, color =\"green\", width = 0.4)\n",
    "\n",
    "# adding the rounded values on top of the bars in the plot\n",
    "for bar in bars:\n",
    "    height = bar.get_height()\n",
    "    plt.text(bar.get_x() + bar.get_width() /  2, height, \"{:.2f}\".format(height), ha=\"center\", va=\"bottom\")\n",
    "    \n",
    "# labelling the plot's axes and giving it a title\n",
    "plt.xlabel(\"Models\")\n",
    "plt.ylabel(\"Recall\")\n",
    "plt.title(\"Recall values of different models in comparison\")\n",
    "\n",
    "# displaying the final plot\n",
    "plt.show()"
   ]
  },
  {
   "cell_type": "markdown",
   "metadata": {},
   "source": [
    "Recall is the number of true positives divided by the sum of true positives and false negatives. It is more relevant if false positives are more costly than false negatives. "
   ]
  },
  {
   "cell_type": "markdown",
   "metadata": {},
   "source": [
    "## Plotting the precision results"
   ]
  },
  {
   "cell_type": "code",
   "execution_count": 42,
   "metadata": {},
   "outputs": [
    {
     "data": {
      "image/png": "[encoded data removed]",
      "text/plain": [
       "<Figure size 432x288 with 1 Axes>"
      ]
     },
     "metadata": {
      "needs_background": "light"
     },
     "output_type": "display_data"
    }
   ],
   "source": [
    "# defining the names of the models and the corresponding precision values as lists\n",
    "models = [\"Logistic Regression\", \"Naive Bayes\", \"Decision Tree\", \"Random Forest\"]\n",
    "values = [lr_pre, nb_pre, dt_pre, forest_pre]\n",
    "\n",
    "# creating a bar plot that takes the two lists as input \n",
    "bars = plt.bar(models, values, color =\"blue\", width = 0.4)\n",
    "\n",
    "# adding the rounded values on top of the bars in the plot\n",
    "for bar in bars:\n",
    "    height = bar.get_height()\n",
    "    plt.text(bar.get_x() + bar.get_width() /  2, height, \"{:.2f}\".format(height), ha=\"center\", va=\"bottom\")\n",
    "\n",
    "# labelling the plot's axes and giving it a title\n",
    "plt.xlabel(\"Models\")\n",
    "plt.ylabel(\"Precision\")\n",
    "plt.title(\"Precision values of different models in comparison\")\n",
    "\n",
    "# displaying the final plot\n",
    "plt.show()"
   ]
  },
  {
   "cell_type": "markdown",
   "metadata": {},
   "source": [
    "Precision is calculated by dividing the true positives by the total sum of positives. It gives the percentage of positive objects in the data that the model correctly predicted. Precision is most relevant when false positives are more costly than false negatives. "
   ]
  },
  {
   "cell_type": "markdown",
   "metadata": {},
   "source": [
    "## Conclusion"
   ]
  },
  {
   "cell_type": "markdown",
   "metadata": {},
   "source": [
    "Based on the plots we think the Naive Bayes model performed best in trying to predict sarcasm because it has the highest accuracy value and the second highest value in both recall and precision. "
   ]
  },
  {
   "cell_type": "code",
   "execution_count": 43,
   "metadata": {},
   "outputs": [],
   "source": [
    "# closing the spark session after the program is executed, in order to close the external connection \n",
    "# and free up resources \n",
    "\n",
    "spark.stop()"
   ]
  }
 ],
 "metadata": {
  "kernelspec": {
   "display_name": "Python 3",
   "language": "python",
   "name": "python3"
  },
  "language_info": {
   "codemirror_mode": {
    "name": "ipython",
    "version": 3
   },
   "file_extension": ".py",
   "mimetype": "text/x-python",
   "name": "python",
   "nbconvert_exporter": "python",
   "pygments_lexer": "ipython3",
   "version": "3.8.6"
  }
 },
 "nbformat": 4,
 "nbformat_minor": 4
}
